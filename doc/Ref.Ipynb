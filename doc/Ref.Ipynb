{
 "cells": [
  {
   "cell_type": "markdown",
   "metadata": {},
   "source": []
  },
  {
   "cell_type": "markdown",
   "metadata": {},
   "source": [
    "## Referencias:\n",
    "- https://platform.openai.com/docs/api-reference/chat/create\n",
    "- https://platform.openai.com/docs/api-reference/completions/create\n",
    "- https://towardsdatascience.com/safeguarding-llms-with-guardrails-4f5d9f57cff2\n",
    "- https://medium.com/@penkow/how-to-add-memory-to-a-chat-llm-model-34e024b63e0c\n",
    "- https://github.com/guardrails-ai/guardrails\n",
    "- https://iopscience.iop.org/article/10.1088/1757-899X/801/1/012136/pdf\n",
    "\n",
    "<rail version=\"0.1\">\n",
    "<output>\n",
    "   <string\n",
    "       name=\"generated_sql\"\n",
    "       description=\"Generate SQL for the given natural language instruction.\"\n",
    "       format=\"bug-free-sql\"\n",
    "       on-fail-bug-free-sql=\"reask\" \n",
    "   />\n",
    "</output>\n",
    "\n",
    "<prompt>\n",
    "Generate a valid SQL query for the following natural language instruction:\n",
    "{{nl_instruction}}\n",
    "@complete_json_suffix\n",
    "</prompt>\n",
    "\n",
    "</rail>"
   ]
  }
 ],
 "metadata": {
  "language_info": {
   "name": "python"
  }
 },
 "nbformat": 4,
 "nbformat_minor": 2
}
